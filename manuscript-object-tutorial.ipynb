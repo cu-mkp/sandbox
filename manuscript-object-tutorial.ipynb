{
 "cells": [
  {
   "cell_type": "markdown",
   "metadata": {},
   "source": [
    "# Interacting with the Manuscript object in Python\n",
    "\n",
    "If you are a little savvy with Python, you can interact directly with the Manuscript in a Python interpreter.\n",
    "Open up the Python interpreter, Jupyter Notebook, or iPython in the manuscript-object directory and enter the following:"
   ]
  },
  {
   "cell_type": "code",
   "execution_count": 21,
   "metadata": {},
   "outputs": [
    {
     "name": "stdout",
     "output_type": "stream",
     "text": [
      "Generating Manuscript object from /mnt/c/code/mkp/manuscript-object/m-k-manuscript-data/ms-xml...\n",
      "Generating entries from files in folder /mnt/c/code/mkp/manuscript-object/m-k-manuscript-data/ms-xml/tc...\n",
      "Generated 0 entries.\n",
      "Generating entries from files in folder /mnt/c/code/mkp/manuscript-object/m-k-manuscript-data/ms-xml/tcn...\n",
      "Generated 0 entries.\n",
      "Generating entries from files in folder /mnt/c/code/mkp/manuscript-object/m-k-manuscript-data/ms-xml/tl...\n",
      "Generated 0 entries.\n"
     ]
    }
   ],
   "source": [
    "from manuscript import *\n",
    "m = Manuscript(utils.ms_xml_path)"
   ]
  },
  {
   "cell_type": "markdown",
   "metadata": {},
   "source": [
    "Now the Manuscript is held in memory with the variable name `m`. You can look at a particular entry like this:"
   ]
  },
  {
   "cell_type": "code",
   "execution_count": null,
   "metadata": {},
   "outputs": [],
   "source": [
    "e = m.entries['tl']['p005r_2']"
   ]
  },
  {
   "cell_type": "markdown",
   "metadata": {},
   "source": [
    "And you can inspect various aspects about it:"
   ]
  },
  {
   "cell_type": "code",
   "execution_count": null,
   "metadata": {},
   "outputs": [],
   "source": [
    "e.text\n",
    "e.xml_string\n",
    "e.properties"
   ]
  },
  {
   "cell_type": "markdown",
   "metadata": {},
   "source": [
    "There are also several functions which are useful when interacting with entries:"
   ]
  },
  {
   "cell_type": "code",
   "execution_count": null,
   "metadata": {},
   "outputs": [],
   "source": [
    "find_terms(e.xml, \"env\")"
   ]
  },
  {
   "cell_type": "markdown",
   "metadata": {},
   "source": [
    "With a bit of Python, you can make complex queries about the manuscript this way."
   ]
  },
  {
   "cell_type": "code",
   "execution_count": null,
   "metadata": {},
   "outputs": [],
   "source": [
    "for id, entry in m.entries['tl'].items():\n",
    "    if len(find_terms(entry.xml, \"env\")) > 0:\n",
    "        print(id)"
   ]
  },
  {
   "cell_type": "markdown",
   "metadata": {},
   "source": [
    "Just like that, you get a list of all the entries with environment tags in them!\n",
    "\n",
    "If we store some data in a list, we can plot the number of `env` tag occurrences by entry:"
   ]
  },
  {
   "cell_type": "code",
   "execution_count": null,
   "metadata": {},
   "outputs": [],
   "source": [
    "> import matplotlib.pyplot as plt\n",
    "> ids = []\n",
    "> n_terms = []\n",
    "> for id, entry in m.entries['tl'].items():\n",
    "    terms = find_terms(entry.xml, \"env\")\n",
    "    if len(terms) > 0:\n",
    "        ids.append(id)\n",
    "        n_terms.append(len(terms))\n",
    "> plt.scatter(ids, n_terms)\n",
    "> plt.show()"
   ]
  },
  {
   "cell_type": "markdown",
   "metadata": {},
   "source": [
    "![scatter plot](https://raw.githubusercontent.com/cu-mkp/manuscript-object/master/projects/visualizations/scatter.png)\n",
    "\n",
    "With a little extra formatting, you have a visualization of roughly where env tags appear in the manuscript!\n",
    "\n",
    "We see that entry 17r_1 has a ton of environment tags. Why is this?"
   ]
  },
  {
   "cell_type": "code",
   "execution_count": null,
   "metadata": {},
   "outputs": [],
   "source": [
    "e = entries['tl']['p017r_1']\n",
    "e.title\n",
    "e.properties[\"environment\"]"
   ]
  },
  {
   "cell_type": "markdown",
   "metadata": {},
   "source": [
    "So this is an entry discussing how gunners interacted with various environments in order to defend or attack them!\n",
    "It looks pretty long. How many characters is it?"
   ]
  },
  {
   "cell_type": "code",
   "execution_count": null,
   "metadata": {},
   "outputs": [],
   "source": [
    "len(e.text)"
   ]
  },
  {
   "cell_type": "markdown",
   "metadata": {},
   "source": [
    "Looks like a big number, but how much is that in context?"
   ]
  },
  {
   "cell_type": "code",
   "execution_count": null,
   "metadata": {},
   "outputs": [],
   "source": [
    "lengths = [len(entry.text) for entry in m.entries[\"tl\"].values()]\n",
    "average = sum(lengths) / len(lengths)\n",
    "average"
   ]
  },
  {
   "cell_type": "markdown",
   "metadata": {},
   "source": [
    "Wow! Compared to the average, this entry is super long! But that doesn't tell us anything about the actual distribution."
   ]
  },
  {
   "cell_type": "code",
   "execution_count": null,
   "metadata": {},
   "outputs": [],
   "source": [
    "import math\n",
    "sd = math.sqrt(sum((x - average)**2 for x in lengths) / len(lengths))\n",
    "sd"
   ]
  },
  {
   "cell_type": "markdown",
   "metadata": {},
   "source": [
    "Unsurprisingly, we have a pretty significant standard deviation."
   ]
  },
  {
   "cell_type": "code",
   "execution_count": null,
   "metadata": {},
   "outputs": [],
   "source": [
    "len(e.text) / sd"
   ]
  },
  {
   "cell_type": "markdown",
   "metadata": {},
   "source": [
    "So the length of entry 17r_1 is 13 standard deviations from the average entry in the manuscript!\n",
    "\n",
    "It's very easy to go from here to a simple histogram showing the length distribution:"
   ]
  },
  {
   "cell_type": "code",
   "execution_count": null,
   "metadata": {},
   "outputs": [],
   "source": [
    "plt.hist(lengths, bins=100)\n",
    "plt.axvline(average, color=\"orange\")\n",
    "for x in range(1,14):\n",
    "    plt.axvline(average + x*sd, color=\"purple\", linewidth=0.5)"
   ]
  },
  {
   "cell_type": "markdown",
   "metadata": {},
   "source": [
    "![histogram](https://raw.githubusercontent.com/cu-mkp/manuscript-object/master/projects/visualizations/hist.png)\n",
    "\n",
    "The orange line is the mean; the purple lines are standard deviations. That tiny blue blip around 14000 must be entry 17r_1.\n",
    "\n",
    "Admittedly, this sort of statistic is not terribly informative on this kind of dataset, but possibilities are abound. Interacting with the manuscript is made simple and powerful by holding the entries in memory as a Python object."
   ]
  }
 ],
 "metadata": {
  "kernelspec": {
   "display_name": "Python 3",
   "language": "python",
   "name": "python3"
  },
  "language_info": {
   "codemirror_mode": {
    "name": "ipython",
    "version": 3
   },
   "file_extension": ".py",
   "mimetype": "text/x-python",
   "name": "python",
   "nbconvert_exporter": "python",
   "pygments_lexer": "ipython3",
   "version": "3.8.2"
  }
 },
 "nbformat": 4,
 "nbformat_minor": 4
}
